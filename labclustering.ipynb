{
 "cells": [
  {
   "cell_type": "markdown",
   "id": "6bdff84d",
   "metadata": {},
   "source": [
    "### Instructions\n",
    "It's the moment to perform clustering on the songs you collected. Remember that the ultimate goal of this little project is to improve the recommendations of artists. Clustering the songs will allow the recommendation system to limit the scope of the recommendations to only songs that belong to the same cluster - songs with similar audio features.<br>\n",
    "<br>\n",
    "The experiments you did with the Spotify API and the Billboard web scraping will allow you to create a pipeline such that when the user enters a song, you:\n",
    "\n",
    "- Check whether or not the song is in the Billboard Hot 200.\n",
    "- Collect the audio features from the Spotify API."
   ]
  },
  {
   "cell_type": "markdown",
   "id": "c6036422",
   "metadata": {},
   "source": [
    "After that, you want to send the Spotify audio features of the submitted song to the clustering model, which should return a cluster number.<br>\n",
    "<br>\n",
    "We want to have as many songs as possible to create the clustering model, so we will add the songs you collected to a bigger dataset available on Kaggle containing 160 thousand songs."
   ]
  },
  {
   "cell_type": "markdown",
   "id": "97a49f9d",
   "metadata": {},
   "source": [
    "### Import libraries and load dataframes"
   ]
  },
  {
   "cell_type": "code",
   "execution_count": 2,
   "id": "cfcb5c1d",
   "metadata": {},
   "outputs": [],
   "source": [
    "import pandas as pd\n",
    "import numpy as np\n",
    "\n",
    "import spotipy\n",
    "from spotipy.oauth2 import SpotifyClientCredentials\n",
    "from getpass import getpass\n",
    "\n",
    "from sklearn.preprocessing import MinMaxScaler\n",
    "from sklearn.cluster import KMeans\n",
    "from sklearn.metrics import silhouette_score\n",
    "import matplotlib.pyplot as plt\n",
    "from yellowbrick.cluster import KElbowVisualizer\n",
    "from yellowbrick.cluster import SilhouetteVisualizer\n",
    "from sklearn.decomposition import PCA\n",
    "from sklearn.metrics import pairwise_distances_argmin_min"
   ]
  },
  {
   "cell_type": "code",
   "execution_count": 3,
   "id": "ca2b4cca",
   "metadata": {},
   "outputs": [
    {
     "data": {
      "text/html": [
       "<div>\n",
       "<style scoped>\n",
       "    .dataframe tbody tr th:only-of-type {\n",
       "        vertical-align: middle;\n",
       "    }\n",
       "\n",
       "    .dataframe tbody tr th {\n",
       "        vertical-align: top;\n",
       "    }\n",
       "\n",
       "    .dataframe thead th {\n",
       "        text-align: right;\n",
       "    }\n",
       "</style>\n",
       "<table border=\"1\" class=\"dataframe\">\n",
       "  <thead>\n",
       "    <tr style=\"text-align: right;\">\n",
       "      <th></th>\n",
       "      <th>title</th>\n",
       "      <th>artist</th>\n",
       "    </tr>\n",
       "  </thead>\n",
       "  <tbody>\n",
       "    <tr>\n",
       "      <th>0</th>\n",
       "      <td>Last Night</td>\n",
       "      <td>Morgan Wallen</td>\n",
       "    </tr>\n",
       "    <tr>\n",
       "      <th>1</th>\n",
       "      <td>Fast Car</td>\n",
       "      <td>Luke Combs</td>\n",
       "    </tr>\n",
       "    <tr>\n",
       "      <th>2</th>\n",
       "      <td>Calm Down</td>\n",
       "      <td>Rema &amp; Selena Gomez</td>\n",
       "    </tr>\n",
       "    <tr>\n",
       "      <th>3</th>\n",
       "      <td>Flowers</td>\n",
       "      <td>Miley Cyrus</td>\n",
       "    </tr>\n",
       "    <tr>\n",
       "      <th>4</th>\n",
       "      <td>All My Life</td>\n",
       "      <td>Lil Durk Featuring J. Cole</td>\n",
       "    </tr>\n",
       "  </tbody>\n",
       "</table>\n",
       "</div>"
      ],
      "text/plain": [
       "         title                      artist\n",
       "0   Last Night               Morgan Wallen\n",
       "1     Fast Car                  Luke Combs\n",
       "2    Calm Down         Rema & Selena Gomez\n",
       "3      Flowers                 Miley Cyrus\n",
       "4  All My Life  Lil Durk Featuring J. Cole"
      ]
     },
     "execution_count": 3,
     "metadata": {},
     "output_type": "execute_result"
    }
   ],
   "source": [
    "billboard = pd.read_csv(\"billboard_songs.csv\")\n",
    "billboard.head()"
   ]
  },
  {
   "cell_type": "code",
   "execution_count": 4,
   "id": "7af20c9f",
   "metadata": {},
   "outputs": [
    {
     "data": {
      "text/html": [
       "<div>\n",
       "<style scoped>\n",
       "    .dataframe tbody tr th:only-of-type {\n",
       "        vertical-align: middle;\n",
       "    }\n",
       "\n",
       "    .dataframe tbody tr th {\n",
       "        vertical-align: top;\n",
       "    }\n",
       "\n",
       "    .dataframe thead th {\n",
       "        text-align: right;\n",
       "    }\n",
       "</style>\n",
       "<table border=\"1\" class=\"dataframe\">\n",
       "  <thead>\n",
       "    <tr style=\"text-align: right;\">\n",
       "      <th></th>\n",
       "      <th>id</th>\n",
       "      <th>title</th>\n",
       "      <th>artist</th>\n",
       "      <th>danceability</th>\n",
       "      <th>energy</th>\n",
       "      <th>key</th>\n",
       "      <th>loudness</th>\n",
       "      <th>mode</th>\n",
       "      <th>speechiness</th>\n",
       "      <th>acousticness</th>\n",
       "      <th>instrumentalness</th>\n",
       "      <th>liveness</th>\n",
       "      <th>valence</th>\n",
       "      <th>tempo</th>\n",
       "      <th>duration_ms</th>\n",
       "      <th>time_signature</th>\n",
       "    </tr>\n",
       "  </thead>\n",
       "  <tbody>\n",
       "    <tr>\n",
       "      <th>0</th>\n",
       "      <td>2UW7JaomAMuX9pZrjVpHAU</td>\n",
       "      <td>La Bebe - Remix</td>\n",
       "      <td>Yng Lvcas, Peso Pluma</td>\n",
       "      <td>0.812</td>\n",
       "      <td>0.479</td>\n",
       "      <td>2</td>\n",
       "      <td>-5.678</td>\n",
       "      <td>0</td>\n",
       "      <td>0.3330</td>\n",
       "      <td>0.2130</td>\n",
       "      <td>0.000001</td>\n",
       "      <td>0.0756</td>\n",
       "      <td>0.559</td>\n",
       "      <td>169.922</td>\n",
       "      <td>234353</td>\n",
       "      <td>4</td>\n",
       "    </tr>\n",
       "    <tr>\n",
       "      <th>1</th>\n",
       "      <td>7ro0hRteUMfnOioTFI5TG1</td>\n",
       "      <td>WHERE SHE GOES</td>\n",
       "      <td>Bad Bunny</td>\n",
       "      <td>0.652</td>\n",
       "      <td>0.800</td>\n",
       "      <td>9</td>\n",
       "      <td>-4.019</td>\n",
       "      <td>0</td>\n",
       "      <td>0.0614</td>\n",
       "      <td>0.1430</td>\n",
       "      <td>0.629000</td>\n",
       "      <td>0.1120</td>\n",
       "      <td>0.234</td>\n",
       "      <td>143.978</td>\n",
       "      <td>231704</td>\n",
       "      <td>4</td>\n",
       "    </tr>\n",
       "    <tr>\n",
       "      <th>2</th>\n",
       "      <td>5TMLavqGRKNxgzMBrVpC9R</td>\n",
       "      <td>Mon Amour - Remix</td>\n",
       "      <td>zzoilo, Aitana</td>\n",
       "      <td>0.748</td>\n",
       "      <td>0.761</td>\n",
       "      <td>2</td>\n",
       "      <td>-6.621</td>\n",
       "      <td>1</td>\n",
       "      <td>0.1020</td>\n",
       "      <td>0.1220</td>\n",
       "      <td>0.000007</td>\n",
       "      <td>0.0984</td>\n",
       "      <td>0.362</td>\n",
       "      <td>116.041</td>\n",
       "      <td>179940</td>\n",
       "      <td>4</td>\n",
       "    </tr>\n",
       "    <tr>\n",
       "      <th>3</th>\n",
       "      <td>0Be7sopyKMv8Y8npsUkax2</td>\n",
       "      <td>Tacones Rojos</td>\n",
       "      <td>Sebastian Yatra</td>\n",
       "      <td>0.748</td>\n",
       "      <td>0.856</td>\n",
       "      <td>11</td>\n",
       "      <td>-3.517</td>\n",
       "      <td>0</td>\n",
       "      <td>0.0348</td>\n",
       "      <td>0.0824</td>\n",
       "      <td>0.000000</td>\n",
       "      <td>0.1420</td>\n",
       "      <td>0.927</td>\n",
       "      <td>123.031</td>\n",
       "      <td>189320</td>\n",
       "      <td>4</td>\n",
       "    </tr>\n",
       "    <tr>\n",
       "      <th>4</th>\n",
       "      <td>7FbrGaHYVDmfr7KoLIZnQ7</td>\n",
       "      <td>Cupid - Twin Ver.</td>\n",
       "      <td>FIFTY FIFTY</td>\n",
       "      <td>0.783</td>\n",
       "      <td>0.592</td>\n",
       "      <td>11</td>\n",
       "      <td>-8.332</td>\n",
       "      <td>0</td>\n",
       "      <td>0.0331</td>\n",
       "      <td>0.4350</td>\n",
       "      <td>0.000004</td>\n",
       "      <td>0.3470</td>\n",
       "      <td>0.726</td>\n",
       "      <td>120.018</td>\n",
       "      <td>174253</td>\n",
       "      <td>4</td>\n",
       "    </tr>\n",
       "  </tbody>\n",
       "</table>\n",
       "</div>"
      ],
      "text/plain": [
       "                       id              title                 artist  \\\n",
       "0  2UW7JaomAMuX9pZrjVpHAU    La Bebe - Remix  Yng Lvcas, Peso Pluma   \n",
       "1  7ro0hRteUMfnOioTFI5TG1     WHERE SHE GOES              Bad Bunny   \n",
       "2  5TMLavqGRKNxgzMBrVpC9R  Mon Amour - Remix         zzoilo, Aitana   \n",
       "3  0Be7sopyKMv8Y8npsUkax2      Tacones Rojos        Sebastian Yatra   \n",
       "4  7FbrGaHYVDmfr7KoLIZnQ7  Cupid - Twin Ver.            FIFTY FIFTY   \n",
       "\n",
       "   danceability  energy  key  loudness  mode  speechiness  acousticness  \\\n",
       "0         0.812   0.479    2    -5.678     0       0.3330        0.2130   \n",
       "1         0.652   0.800    9    -4.019     0       0.0614        0.1430   \n",
       "2         0.748   0.761    2    -6.621     1       0.1020        0.1220   \n",
       "3         0.748   0.856   11    -3.517     0       0.0348        0.0824   \n",
       "4         0.783   0.592   11    -8.332     0       0.0331        0.4350   \n",
       "\n",
       "   instrumentalness  liveness  valence    tempo  duration_ms  time_signature  \n",
       "0          0.000001    0.0756    0.559  169.922       234353               4  \n",
       "1          0.629000    0.1120    0.234  143.978       231704               4  \n",
       "2          0.000007    0.0984    0.362  116.041       179940               4  \n",
       "3          0.000000    0.1420    0.927  123.031       189320               4  \n",
       "4          0.000004    0.3470    0.726  120.018       174253               4  "
      ]
     },
     "execution_count": 4,
     "metadata": {},
     "output_type": "execute_result"
    }
   ],
   "source": [
    "spotipy_songs = pd.read_csv(\"audio_features_songs.csv\")\n",
    "spotipy_songs.head()"
   ]
  },
  {
   "cell_type": "code",
   "execution_count": 5,
   "id": "86b03eab",
   "metadata": {},
   "outputs": [
    {
     "data": {
      "text/html": [
       "<div>\n",
       "<style scoped>\n",
       "    .dataframe tbody tr th:only-of-type {\n",
       "        vertical-align: middle;\n",
       "    }\n",
       "\n",
       "    .dataframe tbody tr th {\n",
       "        vertical-align: top;\n",
       "    }\n",
       "\n",
       "    .dataframe thead th {\n",
       "        text-align: right;\n",
       "    }\n",
       "</style>\n",
       "<table border=\"1\" class=\"dataframe\">\n",
       "  <thead>\n",
       "    <tr style=\"text-align: right;\">\n",
       "      <th></th>\n",
       "      <th>id</th>\n",
       "      <th>name</th>\n",
       "      <th>artists</th>\n",
       "      <th>duration_ms</th>\n",
       "      <th>release_date</th>\n",
       "      <th>year</th>\n",
       "      <th>acousticness</th>\n",
       "      <th>danceability</th>\n",
       "      <th>energy</th>\n",
       "      <th>instrumentalness</th>\n",
       "      <th>liveness</th>\n",
       "      <th>loudness</th>\n",
       "      <th>speechiness</th>\n",
       "      <th>tempo</th>\n",
       "      <th>valence</th>\n",
       "      <th>mode</th>\n",
       "      <th>key</th>\n",
       "      <th>popularity</th>\n",
       "      <th>explicit</th>\n",
       "    </tr>\n",
       "  </thead>\n",
       "  <tbody>\n",
       "    <tr>\n",
       "      <th>0</th>\n",
       "      <td>0gNNToCW3qjabgTyBSjt3H</td>\n",
       "      <td>!Que Vida! - Mono Version</td>\n",
       "      <td>['Love']</td>\n",
       "      <td>220560</td>\n",
       "      <td>11/1/66</td>\n",
       "      <td>1966</td>\n",
       "      <td>0.5250</td>\n",
       "      <td>0.600</td>\n",
       "      <td>0.540</td>\n",
       "      <td>0.00305</td>\n",
       "      <td>0.100</td>\n",
       "      <td>-11.803</td>\n",
       "      <td>0.0328</td>\n",
       "      <td>125.898</td>\n",
       "      <td>0.547</td>\n",
       "      <td>1</td>\n",
       "      <td>9</td>\n",
       "      <td>26</td>\n",
       "      <td>0</td>\n",
       "    </tr>\n",
       "    <tr>\n",
       "      <th>1</th>\n",
       "      <td>0tMgFpOrXZR6irEOLNWwJL</td>\n",
       "      <td>\"40\"</td>\n",
       "      <td>['U2']</td>\n",
       "      <td>157840</td>\n",
       "      <td>2/28/83</td>\n",
       "      <td>1983</td>\n",
       "      <td>0.2280</td>\n",
       "      <td>0.368</td>\n",
       "      <td>0.480</td>\n",
       "      <td>0.70700</td>\n",
       "      <td>0.159</td>\n",
       "      <td>-11.605</td>\n",
       "      <td>0.0306</td>\n",
       "      <td>150.166</td>\n",
       "      <td>0.338</td>\n",
       "      <td>1</td>\n",
       "      <td>8</td>\n",
       "      <td>21</td>\n",
       "      <td>0</td>\n",
       "    </tr>\n",
       "    <tr>\n",
       "      <th>2</th>\n",
       "      <td>2ZywW3VyVx6rrlrX75n3JB</td>\n",
       "      <td>\"40\" - Live</td>\n",
       "      <td>['U2']</td>\n",
       "      <td>226200</td>\n",
       "      <td>8/20/83</td>\n",
       "      <td>1983</td>\n",
       "      <td>0.0998</td>\n",
       "      <td>0.272</td>\n",
       "      <td>0.684</td>\n",
       "      <td>0.01450</td>\n",
       "      <td>0.946</td>\n",
       "      <td>-9.728</td>\n",
       "      <td>0.0505</td>\n",
       "      <td>143.079</td>\n",
       "      <td>0.279</td>\n",
       "      <td>1</td>\n",
       "      <td>8</td>\n",
       "      <td>41</td>\n",
       "      <td>0</td>\n",
       "    </tr>\n",
       "    <tr>\n",
       "      <th>3</th>\n",
       "      <td>6DdWA7D1o5TU2kXWyCLcch</td>\n",
       "      <td>\"40\" - Remastered 2008</td>\n",
       "      <td>['U2']</td>\n",
       "      <td>157667</td>\n",
       "      <td>2/28/83</td>\n",
       "      <td>1983</td>\n",
       "      <td>0.1850</td>\n",
       "      <td>0.371</td>\n",
       "      <td>0.545</td>\n",
       "      <td>0.58200</td>\n",
       "      <td>0.183</td>\n",
       "      <td>-9.315</td>\n",
       "      <td>0.0307</td>\n",
       "      <td>150.316</td>\n",
       "      <td>0.310</td>\n",
       "      <td>1</td>\n",
       "      <td>8</td>\n",
       "      <td>37</td>\n",
       "      <td>0</td>\n",
       "    </tr>\n",
       "    <tr>\n",
       "      <th>4</th>\n",
       "      <td>3vMmwsAiLDCfyc1jl76lQE</td>\n",
       "      <td>\"40\" - Remastered 2008</td>\n",
       "      <td>['U2']</td>\n",
       "      <td>157667</td>\n",
       "      <td>2/28/83</td>\n",
       "      <td>1983</td>\n",
       "      <td>0.1850</td>\n",
       "      <td>0.371</td>\n",
       "      <td>0.545</td>\n",
       "      <td>0.58200</td>\n",
       "      <td>0.183</td>\n",
       "      <td>-9.315</td>\n",
       "      <td>0.0307</td>\n",
       "      <td>150.316</td>\n",
       "      <td>0.310</td>\n",
       "      <td>1</td>\n",
       "      <td>8</td>\n",
       "      <td>35</td>\n",
       "      <td>0</td>\n",
       "    </tr>\n",
       "  </tbody>\n",
       "</table>\n",
       "</div>"
      ],
      "text/plain": [
       "                       id                       name   artists  duration_ms  \\\n",
       "0  0gNNToCW3qjabgTyBSjt3H  !Que Vida! - Mono Version  ['Love']       220560   \n",
       "1  0tMgFpOrXZR6irEOLNWwJL                       \"40\"    ['U2']       157840   \n",
       "2  2ZywW3VyVx6rrlrX75n3JB                \"40\" - Live    ['U2']       226200   \n",
       "3  6DdWA7D1o5TU2kXWyCLcch     \"40\" - Remastered 2008    ['U2']       157667   \n",
       "4  3vMmwsAiLDCfyc1jl76lQE     \"40\" - Remastered 2008    ['U2']       157667   \n",
       "\n",
       "  release_date  year  acousticness  danceability  energy  instrumentalness  \\\n",
       "0      11/1/66  1966        0.5250         0.600   0.540           0.00305   \n",
       "1      2/28/83  1983        0.2280         0.368   0.480           0.70700   \n",
       "2      8/20/83  1983        0.0998         0.272   0.684           0.01450   \n",
       "3      2/28/83  1983        0.1850         0.371   0.545           0.58200   \n",
       "4      2/28/83  1983        0.1850         0.371   0.545           0.58200   \n",
       "\n",
       "   liveness  loudness  speechiness    tempo  valence  mode  key  popularity  \\\n",
       "0     0.100   -11.803       0.0328  125.898    0.547     1    9          26   \n",
       "1     0.159   -11.605       0.0306  150.166    0.338     1    8          21   \n",
       "2     0.946    -9.728       0.0505  143.079    0.279     1    8          41   \n",
       "3     0.183    -9.315       0.0307  150.316    0.310     1    8          37   \n",
       "4     0.183    -9.315       0.0307  150.316    0.310     1    8          35   \n",
       "\n",
       "   explicit  \n",
       "0         0  \n",
       "1         0  \n",
       "2         0  \n",
       "3         0  \n",
       "4         0  "
      ]
     },
     "execution_count": 5,
     "metadata": {},
     "output_type": "execute_result"
    }
   ],
   "source": [
    "kaggle_songs = pd.read_csv(\"kaggle_spotify_data.csv\")\n",
    "kaggle_songs.head()"
   ]
  },
  {
   "cell_type": "markdown",
   "id": "c39417d3",
   "metadata": {},
   "source": [
    "### Cleaning and some exploration of the Kaggle dataframe\n",
    "Dataframe downloaded from https://www.kaggle.com/datasets/fcpercival/160k-spotify-songs-sorted"
   ]
  },
  {
   "cell_type": "code",
   "execution_count": 5,
   "id": "20285c97",
   "metadata": {},
   "outputs": [
    {
     "data": {
      "text/plain": [
       "(169907, 19)"
      ]
     },
     "execution_count": 5,
     "metadata": {},
     "output_type": "execute_result"
    }
   ],
   "source": [
    "kaggle_songs.shape"
   ]
  },
  {
   "cell_type": "code",
   "execution_count": 6,
   "id": "f6f699d1",
   "metadata": {},
   "outputs": [
    {
     "data": {
      "text/plain": [
       "id                  0\n",
       "name                0\n",
       "artists             0\n",
       "duration_ms         0\n",
       "release_date        0\n",
       "year                0\n",
       "acousticness        0\n",
       "danceability        0\n",
       "energy              0\n",
       "instrumentalness    0\n",
       "liveness            0\n",
       "loudness            0\n",
       "speechiness         0\n",
       "tempo               0\n",
       "valence             0\n",
       "mode                0\n",
       "key                 0\n",
       "popularity          0\n",
       "explicit            0\n",
       "dtype: int64"
      ]
     },
     "execution_count": 6,
     "metadata": {},
     "output_type": "execute_result"
    }
   ],
   "source": [
    "kaggle_songs.isna().sum()"
   ]
  },
  {
   "cell_type": "code",
   "execution_count": 7,
   "id": "1053d727",
   "metadata": {},
   "outputs": [
    {
     "data": {
      "text/plain": [
       "False    169907\n",
       "dtype: int64"
      ]
     },
     "execution_count": 7,
     "metadata": {},
     "output_type": "execute_result"
    }
   ],
   "source": [
    "kaggle_songs.duplicated().value_counts()"
   ]
  },
  {
   "cell_type": "code",
   "execution_count": 8,
   "id": "eb73268e",
   "metadata": {},
   "outputs": [
    {
     "data": {
      "text/plain": [
       "Index(['id', 'name', 'artists', 'duration_ms', 'release_date', 'year',\n",
       "       'acousticness', 'danceability', 'energy', 'instrumentalness',\n",
       "       'liveness', 'loudness', 'speechiness', 'tempo', 'valence', 'mode',\n",
       "       'key', 'popularity', 'explicit'],\n",
       "      dtype='object')"
      ]
     },
     "execution_count": 8,
     "metadata": {},
     "output_type": "execute_result"
    }
   ],
   "source": [
    "kaggle_songs.columns"
   ]
  },
  {
   "cell_type": "code",
   "execution_count": 9,
   "id": "a6053bba",
   "metadata": {},
   "outputs": [
    {
     "data": {
      "text/plain": [
       "Index(['id', 'title', 'artist', 'danceability', 'energy', 'key', 'loudness',\n",
       "       'mode', 'speechiness', 'acousticness', 'instrumentalness', 'liveness',\n",
       "       'valence', 'tempo', 'duration_ms', 'time_signature'],\n",
       "      dtype='object')"
      ]
     },
     "execution_count": 9,
     "metadata": {},
     "output_type": "execute_result"
    }
   ],
   "source": [
    "spotipy_songs.columns"
   ]
  },
  {
   "cell_type": "code",
   "execution_count": 6,
   "id": "f753e786",
   "metadata": {},
   "outputs": [],
   "source": [
    "# Drop columns that are only in one of the dataframes\n",
    "# Drop \"id\" column since we are not going to use it\n",
    "# Also drop \"liveness\" because it only measures if a  was performed live or through a recording studio (not an element of the music itself)\n",
    "\n",
    "kaggle_songs = kaggle_songs.drop(['id', 'release_date', 'year', 'popularity', 'explicit', 'liveness'], axis=1)\n",
    "spotipy_songs = spotipy_songs.drop(['id', 'time_signature', 'liveness'], axis=1)"
   ]
  },
  {
   "cell_type": "markdown",
   "id": "73b39d71",
   "metadata": {},
   "source": [
    "More info about the meaning of each column: https://github.com/gabminamedez/spotify-data"
   ]
  },
  {
   "cell_type": "code",
   "execution_count": 7,
   "id": "3e86385f",
   "metadata": {},
   "outputs": [
    {
     "data": {
      "text/plain": [
       "((169907, 13), (883, 13))"
      ]
     },
     "execution_count": 7,
     "metadata": {},
     "output_type": "execute_result"
    }
   ],
   "source": [
    "# Check that both dataframes have the same number of columns\n",
    "\n",
    "kaggle_songs.shape, spotipy_songs.shape"
   ]
  },
  {
   "cell_type": "code",
   "execution_count": 8,
   "id": "72b98848",
   "metadata": {},
   "outputs": [],
   "source": [
    "# Rename columns to have the same names in both dataframes (in order to join)\n",
    "\n",
    "kaggle_songs.columns = ['title', 'artist', 'duration_ms', 'acousticness', 'danceability', \n",
    "                        'energy', 'instrumentalness', 'loudness', 'speechiness', 'tempo', \n",
    "                        'valence', 'mode', 'key']"
   ]
  },
  {
   "cell_type": "code",
   "execution_count": 9,
   "id": "17c8e36c",
   "metadata": {},
   "outputs": [],
   "source": [
    "# Reorder columns\n",
    "\n",
    "kaggle_songs = kaggle_songs[['title', 'artist', 'danceability', 'energy', 'key', 'loudness',\n",
    "                             'mode', 'speechiness', 'acousticness', 'instrumentalness', 'valence',\n",
    "                             'tempo', 'duration_ms']]"
   ]
  },
  {
   "cell_type": "code",
   "execution_count": 10,
   "id": "002f1cee",
   "metadata": {},
   "outputs": [
    {
     "data": {
      "text/html": [
       "<div>\n",
       "<style scoped>\n",
       "    .dataframe tbody tr th:only-of-type {\n",
       "        vertical-align: middle;\n",
       "    }\n",
       "\n",
       "    .dataframe tbody tr th {\n",
       "        vertical-align: top;\n",
       "    }\n",
       "\n",
       "    .dataframe thead th {\n",
       "        text-align: right;\n",
       "    }\n",
       "</style>\n",
       "<table border=\"1\" class=\"dataframe\">\n",
       "  <thead>\n",
       "    <tr style=\"text-align: right;\">\n",
       "      <th></th>\n",
       "      <th>title</th>\n",
       "      <th>artist</th>\n",
       "      <th>danceability</th>\n",
       "      <th>energy</th>\n",
       "      <th>key</th>\n",
       "      <th>loudness</th>\n",
       "      <th>mode</th>\n",
       "      <th>speechiness</th>\n",
       "      <th>acousticness</th>\n",
       "      <th>instrumentalness</th>\n",
       "      <th>valence</th>\n",
       "      <th>tempo</th>\n",
       "      <th>duration_ms</th>\n",
       "    </tr>\n",
       "  </thead>\n",
       "  <tbody>\n",
       "    <tr>\n",
       "      <th>0</th>\n",
       "      <td>!Que Vida! - Mono Version</td>\n",
       "      <td>Love</td>\n",
       "      <td>0.600</td>\n",
       "      <td>0.540</td>\n",
       "      <td>9</td>\n",
       "      <td>-11.803</td>\n",
       "      <td>1</td>\n",
       "      <td>0.0328</td>\n",
       "      <td>0.5250</td>\n",
       "      <td>0.00305</td>\n",
       "      <td>0.547</td>\n",
       "      <td>125.898</td>\n",
       "      <td>220560</td>\n",
       "    </tr>\n",
       "    <tr>\n",
       "      <th>1</th>\n",
       "      <td>\"40\"</td>\n",
       "      <td>U2</td>\n",
       "      <td>0.368</td>\n",
       "      <td>0.480</td>\n",
       "      <td>8</td>\n",
       "      <td>-11.605</td>\n",
       "      <td>1</td>\n",
       "      <td>0.0306</td>\n",
       "      <td>0.2280</td>\n",
       "      <td>0.70700</td>\n",
       "      <td>0.338</td>\n",
       "      <td>150.166</td>\n",
       "      <td>157840</td>\n",
       "    </tr>\n",
       "    <tr>\n",
       "      <th>2</th>\n",
       "      <td>\"40\" - Live</td>\n",
       "      <td>U2</td>\n",
       "      <td>0.272</td>\n",
       "      <td>0.684</td>\n",
       "      <td>8</td>\n",
       "      <td>-9.728</td>\n",
       "      <td>1</td>\n",
       "      <td>0.0505</td>\n",
       "      <td>0.0998</td>\n",
       "      <td>0.01450</td>\n",
       "      <td>0.279</td>\n",
       "      <td>143.079</td>\n",
       "      <td>226200</td>\n",
       "    </tr>\n",
       "    <tr>\n",
       "      <th>3</th>\n",
       "      <td>\"40\" - Remastered 2008</td>\n",
       "      <td>U2</td>\n",
       "      <td>0.371</td>\n",
       "      <td>0.545</td>\n",
       "      <td>8</td>\n",
       "      <td>-9.315</td>\n",
       "      <td>1</td>\n",
       "      <td>0.0307</td>\n",
       "      <td>0.1850</td>\n",
       "      <td>0.58200</td>\n",
       "      <td>0.310</td>\n",
       "      <td>150.316</td>\n",
       "      <td>157667</td>\n",
       "    </tr>\n",
       "    <tr>\n",
       "      <th>4</th>\n",
       "      <td>\"40\" - Remastered 2008</td>\n",
       "      <td>U2</td>\n",
       "      <td>0.371</td>\n",
       "      <td>0.545</td>\n",
       "      <td>8</td>\n",
       "      <td>-9.315</td>\n",
       "      <td>1</td>\n",
       "      <td>0.0307</td>\n",
       "      <td>0.1850</td>\n",
       "      <td>0.58200</td>\n",
       "      <td>0.310</td>\n",
       "      <td>150.316</td>\n",
       "      <td>157667</td>\n",
       "    </tr>\n",
       "  </tbody>\n",
       "</table>\n",
       "</div>"
      ],
      "text/plain": [
       "                       title artist  danceability  energy  key  loudness  \\\n",
       "0  !Que Vida! - Mono Version   Love         0.600   0.540    9   -11.803   \n",
       "1                       \"40\"     U2         0.368   0.480    8   -11.605   \n",
       "2                \"40\" - Live     U2         0.272   0.684    8    -9.728   \n",
       "3     \"40\" - Remastered 2008     U2         0.371   0.545    8    -9.315   \n",
       "4     \"40\" - Remastered 2008     U2         0.371   0.545    8    -9.315   \n",
       "\n",
       "   mode  speechiness  acousticness  instrumentalness  valence    tempo  \\\n",
       "0     1       0.0328        0.5250           0.00305    0.547  125.898   \n",
       "1     1       0.0306        0.2280           0.70700    0.338  150.166   \n",
       "2     1       0.0505        0.0998           0.01450    0.279  143.079   \n",
       "3     1       0.0307        0.1850           0.58200    0.310  150.316   \n",
       "4     1       0.0307        0.1850           0.58200    0.310  150.316   \n",
       "\n",
       "   duration_ms  \n",
       "0       220560  \n",
       "1       157840  \n",
       "2       226200  \n",
       "3       157667  \n",
       "4       157667  "
      ]
     },
     "execution_count": 10,
     "metadata": {},
     "output_type": "execute_result"
    }
   ],
   "source": [
    "# Remove extra characters in the artist column\n",
    "\n",
    "kaggle_songs[\"artist\"] = kaggle_songs[\"artist\"].apply(lambda x: x[2:-2])\n",
    "kaggle_songs.head()"
   ]
  },
  {
   "cell_type": "markdown",
   "id": "7e4ad5f5",
   "metadata": {},
   "source": [
    "### Concatenate the two dataframes"
   ]
  },
  {
   "cell_type": "code",
   "execution_count": 11,
   "id": "fd5bcd55",
   "metadata": {},
   "outputs": [
    {
     "data": {
      "text/html": [
       "<div>\n",
       "<style scoped>\n",
       "    .dataframe tbody tr th:only-of-type {\n",
       "        vertical-align: middle;\n",
       "    }\n",
       "\n",
       "    .dataframe tbody tr th {\n",
       "        vertical-align: top;\n",
       "    }\n",
       "\n",
       "    .dataframe thead th {\n",
       "        text-align: right;\n",
       "    }\n",
       "</style>\n",
       "<table border=\"1\" class=\"dataframe\">\n",
       "  <thead>\n",
       "    <tr style=\"text-align: right;\">\n",
       "      <th></th>\n",
       "      <th>title</th>\n",
       "      <th>artist</th>\n",
       "      <th>danceability</th>\n",
       "      <th>energy</th>\n",
       "      <th>key</th>\n",
       "      <th>loudness</th>\n",
       "      <th>mode</th>\n",
       "      <th>speechiness</th>\n",
       "      <th>acousticness</th>\n",
       "      <th>instrumentalness</th>\n",
       "      <th>valence</th>\n",
       "      <th>tempo</th>\n",
       "      <th>duration_ms</th>\n",
       "    </tr>\n",
       "  </thead>\n",
       "  <tbody>\n",
       "    <tr>\n",
       "      <th>20031</th>\n",
       "      <td>Bring the Rain</td>\n",
       "      <td>MercyMe</td>\n",
       "      <td>0.464</td>\n",
       "      <td>0.674</td>\n",
       "      <td>9</td>\n",
       "      <td>-5.671</td>\n",
       "      <td>1</td>\n",
       "      <td>0.0310</td>\n",
       "      <td>0.13400</td>\n",
       "      <td>0.000000</td>\n",
       "      <td>0.237</td>\n",
       "      <td>158.032</td>\n",
       "      <td>330067</td>\n",
       "    </tr>\n",
       "    <tr>\n",
       "      <th>96695</th>\n",
       "      <td>Negrita</td>\n",
       "      <td>Ralfi Pagan</td>\n",
       "      <td>0.580</td>\n",
       "      <td>0.283</td>\n",
       "      <td>7</td>\n",
       "      <td>-13.709</td>\n",
       "      <td>0</td>\n",
       "      <td>0.0341</td>\n",
       "      <td>0.63000</td>\n",
       "      <td>0.038100</td>\n",
       "      <td>0.549</td>\n",
       "      <td>81.499</td>\n",
       "      <td>173453</td>\n",
       "    </tr>\n",
       "    <tr>\n",
       "      <th>89256</th>\n",
       "      <td>Me And Paul - Live in Texas - September 1974</td>\n",
       "      <td>Waylon Jennings</td>\n",
       "      <td>0.484</td>\n",
       "      <td>0.746</td>\n",
       "      <td>0</td>\n",
       "      <td>-7.845</td>\n",
       "      <td>1</td>\n",
       "      <td>0.0346</td>\n",
       "      <td>0.57800</td>\n",
       "      <td>0.245000</td>\n",
       "      <td>0.601</td>\n",
       "      <td>105.761</td>\n",
       "      <td>220800</td>\n",
       "    </tr>\n",
       "    <tr>\n",
       "      <th>20044</th>\n",
       "      <td>Brisas de Mocorito</td>\n",
       "      <td>Banda Los Guamuchileños De Culiacan</td>\n",
       "      <td>0.336</td>\n",
       "      <td>0.348</td>\n",
       "      <td>8</td>\n",
       "      <td>-12.678</td>\n",
       "      <td>1</td>\n",
       "      <td>0.0362</td>\n",
       "      <td>0.86700</td>\n",
       "      <td>0.817000</td>\n",
       "      <td>0.597</td>\n",
       "      <td>139.614</td>\n",
       "      <td>150533</td>\n",
       "    </tr>\n",
       "    <tr>\n",
       "      <th>124877</th>\n",
       "      <td>Sloop John B - Remastered</td>\n",
       "      <td>The Beach Boys</td>\n",
       "      <td>0.619</td>\n",
       "      <td>0.581</td>\n",
       "      <td>8</td>\n",
       "      <td>-9.448</td>\n",
       "      <td>1</td>\n",
       "      <td>0.0275</td>\n",
       "      <td>0.15800</td>\n",
       "      <td>0.000000</td>\n",
       "      <td>0.936</td>\n",
       "      <td>125.917</td>\n",
       "      <td>179467</td>\n",
       "    </tr>\n",
       "    <tr>\n",
       "      <th>119417</th>\n",
       "      <td>Say Goodbye to Hollywood</td>\n",
       "      <td>Billy Joel</td>\n",
       "      <td>0.686</td>\n",
       "      <td>0.764</td>\n",
       "      <td>0</td>\n",
       "      <td>-6.927</td>\n",
       "      <td>1</td>\n",
       "      <td>0.0353</td>\n",
       "      <td>0.00484</td>\n",
       "      <td>0.000003</td>\n",
       "      <td>0.766</td>\n",
       "      <td>126.872</td>\n",
       "      <td>276333</td>\n",
       "    </tr>\n",
       "    <tr>\n",
       "      <th>76040</th>\n",
       "      <td>Kovo mia klara (paradosiako)</td>\n",
       "      <td>Grigoris Toloysis</td>\n",
       "      <td>0.380</td>\n",
       "      <td>0.307</td>\n",
       "      <td>11</td>\n",
       "      <td>-10.380</td>\n",
       "      <td>0</td>\n",
       "      <td>0.0352</td>\n",
       "      <td>0.99500</td>\n",
       "      <td>0.888000</td>\n",
       "      <td>0.590</td>\n",
       "      <td>99.083</td>\n",
       "      <td>162120</td>\n",
       "    </tr>\n",
       "    <tr>\n",
       "      <th>11885</th>\n",
       "      <td>Automobile</td>\n",
       "      <td>N.W.A.</td>\n",
       "      <td>0.827</td>\n",
       "      <td>0.454</td>\n",
       "      <td>9</td>\n",
       "      <td>-7.555</td>\n",
       "      <td>1</td>\n",
       "      <td>0.0787</td>\n",
       "      <td>0.03820</td>\n",
       "      <td>0.000000</td>\n",
       "      <td>0.664</td>\n",
       "      <td>115.505</td>\n",
       "      <td>195800</td>\n",
       "    </tr>\n",
       "    <tr>\n",
       "      <th>162873</th>\n",
       "      <td>Ya Reit</td>\n",
       "      <td>Fairuz</td>\n",
       "      <td>0.341</td>\n",
       "      <td>0.253</td>\n",
       "      <td>8</td>\n",
       "      <td>-12.939</td>\n",
       "      <td>1</td>\n",
       "      <td>0.0999</td>\n",
       "      <td>0.96300</td>\n",
       "      <td>0.000068</td>\n",
       "      <td>0.355</td>\n",
       "      <td>114.555</td>\n",
       "      <td>200411</td>\n",
       "    </tr>\n",
       "    <tr>\n",
       "      <th>143718</th>\n",
       "      <td>The Sun</td>\n",
       "      <td>Alice Coltrane</td>\n",
       "      <td>0.288</td>\n",
       "      <td>0.289</td>\n",
       "      <td>4</td>\n",
       "      <td>-17.915</td>\n",
       "      <td>1</td>\n",
       "      <td>0.0336</td>\n",
       "      <td>0.76300</td>\n",
       "      <td>0.000011</td>\n",
       "      <td>0.305</td>\n",
       "      <td>94.900</td>\n",
       "      <td>244907</td>\n",
       "    </tr>\n",
       "  </tbody>\n",
       "</table>\n",
       "</div>"
      ],
      "text/plain": [
       "                                               title  \\\n",
       "20031                                 Bring the Rain   \n",
       "96695                                        Negrita   \n",
       "89256   Me And Paul - Live in Texas - September 1974   \n",
       "20044                             Brisas de Mocorito   \n",
       "124877                     Sloop John B - Remastered   \n",
       "119417                      Say Goodbye to Hollywood   \n",
       "76040                   Kovo mia klara (paradosiako)   \n",
       "11885                                     Automobile   \n",
       "162873                                       Ya Reit   \n",
       "143718                                       The Sun   \n",
       "\n",
       "                                     artist  danceability  energy  key  \\\n",
       "20031                               MercyMe         0.464   0.674    9   \n",
       "96695                           Ralfi Pagan         0.580   0.283    7   \n",
       "89256                       Waylon Jennings         0.484   0.746    0   \n",
       "20044   Banda Los Guamuchileños De Culiacan         0.336   0.348    8   \n",
       "124877                       The Beach Boys         0.619   0.581    8   \n",
       "119417                           Billy Joel         0.686   0.764    0   \n",
       "76040                     Grigoris Toloysis         0.380   0.307   11   \n",
       "11885                                N.W.A.         0.827   0.454    9   \n",
       "162873                               Fairuz         0.341   0.253    8   \n",
       "143718                       Alice Coltrane         0.288   0.289    4   \n",
       "\n",
       "        loudness  mode  speechiness  acousticness  instrumentalness  valence  \\\n",
       "20031     -5.671     1       0.0310       0.13400          0.000000    0.237   \n",
       "96695    -13.709     0       0.0341       0.63000          0.038100    0.549   \n",
       "89256     -7.845     1       0.0346       0.57800          0.245000    0.601   \n",
       "20044    -12.678     1       0.0362       0.86700          0.817000    0.597   \n",
       "124877    -9.448     1       0.0275       0.15800          0.000000    0.936   \n",
       "119417    -6.927     1       0.0353       0.00484          0.000003    0.766   \n",
       "76040    -10.380     0       0.0352       0.99500          0.888000    0.590   \n",
       "11885     -7.555     1       0.0787       0.03820          0.000000    0.664   \n",
       "162873   -12.939     1       0.0999       0.96300          0.000068    0.355   \n",
       "143718   -17.915     1       0.0336       0.76300          0.000011    0.305   \n",
       "\n",
       "          tempo  duration_ms  \n",
       "20031   158.032       330067  \n",
       "96695    81.499       173453  \n",
       "89256   105.761       220800  \n",
       "20044   139.614       150533  \n",
       "124877  125.917       179467  \n",
       "119417  126.872       276333  \n",
       "76040    99.083       162120  \n",
       "11885   115.505       195800  \n",
       "162873  114.555       200411  \n",
       "143718   94.900       244907  "
      ]
     },
     "execution_count": 11,
     "metadata": {},
     "output_type": "execute_result"
    }
   ],
   "source": [
    "audio_features_songs = pd.concat([spotipy_songs, kaggle_songs]).reset_index(drop=True)\n",
    "audio_features_songs.sample(10)"
   ]
  },
  {
   "cell_type": "code",
   "execution_count": 12,
   "id": "916ba01f",
   "metadata": {},
   "outputs": [
    {
     "data": {
      "text/plain": [
       "False    166906\n",
       "True       3884\n",
       "dtype: int64"
      ]
     },
     "execution_count": 12,
     "metadata": {},
     "output_type": "execute_result"
    }
   ],
   "source": [
    "# Check duplicates \n",
    "\n",
    "audio_features_songs.duplicated().value_counts()"
   ]
  },
  {
   "cell_type": "code",
   "execution_count": 13,
   "id": "a0637a6c",
   "metadata": {},
   "outputs": [
    {
     "data": {
      "text/plain": [
       "False    166906\n",
       "dtype: int64"
      ]
     },
     "execution_count": 13,
     "metadata": {},
     "output_type": "execute_result"
    }
   ],
   "source": [
    "audio_features_songs = audio_features_songs.drop_duplicates()\n",
    "audio_features_songs.duplicated().value_counts()"
   ]
  },
  {
   "cell_type": "code",
   "execution_count": 14,
   "id": "f869eee0",
   "metadata": {},
   "outputs": [],
   "source": [
    "audio_features_songs.to_csv(\"audio_features_songs_final.csv\", index=False)"
   ]
  },
  {
   "cell_type": "markdown",
   "id": "36caee5e",
   "metadata": {},
   "source": [
    "### Preprocessing the data before clustering with Kmeans"
   ]
  },
  {
   "cell_type": "code",
   "execution_count": 15,
   "id": "6ab5cb46",
   "metadata": {},
   "outputs": [
    {
     "data": {
      "text/html": [
       "<div>\n",
       "<style scoped>\n",
       "    .dataframe tbody tr th:only-of-type {\n",
       "        vertical-align: middle;\n",
       "    }\n",
       "\n",
       "    .dataframe tbody tr th {\n",
       "        vertical-align: top;\n",
       "    }\n",
       "\n",
       "    .dataframe thead th {\n",
       "        text-align: right;\n",
       "    }\n",
       "</style>\n",
       "<table border=\"1\" class=\"dataframe\">\n",
       "  <thead>\n",
       "    <tr style=\"text-align: right;\">\n",
       "      <th></th>\n",
       "      <th>danceability</th>\n",
       "      <th>energy</th>\n",
       "      <th>key</th>\n",
       "      <th>loudness</th>\n",
       "      <th>mode</th>\n",
       "      <th>speechiness</th>\n",
       "      <th>acousticness</th>\n",
       "      <th>instrumentalness</th>\n",
       "      <th>valence</th>\n",
       "      <th>tempo</th>\n",
       "      <th>duration_ms</th>\n",
       "    </tr>\n",
       "  </thead>\n",
       "  <tbody>\n",
       "    <tr>\n",
       "      <th>0</th>\n",
       "      <td>0.821862</td>\n",
       "      <td>0.479</td>\n",
       "      <td>0.181818</td>\n",
       "      <td>0.850709</td>\n",
       "      <td>0.0</td>\n",
       "      <td>0.343653</td>\n",
       "      <td>0.213855</td>\n",
       "      <td>0.000001</td>\n",
       "      <td>0.559</td>\n",
       "      <td>0.696142</td>\n",
       "      <td>0.042465</td>\n",
       "    </tr>\n",
       "    <tr>\n",
       "      <th>1</th>\n",
       "      <td>0.659919</td>\n",
       "      <td>0.800</td>\n",
       "      <td>0.818182</td>\n",
       "      <td>0.876689</td>\n",
       "      <td>0.0</td>\n",
       "      <td>0.063364</td>\n",
       "      <td>0.143574</td>\n",
       "      <td>0.629000</td>\n",
       "      <td>0.234</td>\n",
       "      <td>0.589854</td>\n",
       "      <td>0.041975</td>\n",
       "    </tr>\n",
       "    <tr>\n",
       "      <th>2</th>\n",
       "      <td>0.757085</td>\n",
       "      <td>0.761</td>\n",
       "      <td>0.181818</td>\n",
       "      <td>0.835941</td>\n",
       "      <td>1.0</td>\n",
       "      <td>0.105263</td>\n",
       "      <td>0.122490</td>\n",
       "      <td>0.000007</td>\n",
       "      <td>0.362</td>\n",
       "      <td>0.475401</td>\n",
       "      <td>0.032386</td>\n",
       "    </tr>\n",
       "    <tr>\n",
       "      <th>3</th>\n",
       "      <td>0.757085</td>\n",
       "      <td>0.856</td>\n",
       "      <td>1.000000</td>\n",
       "      <td>0.884551</td>\n",
       "      <td>0.0</td>\n",
       "      <td>0.035913</td>\n",
       "      <td>0.082731</td>\n",
       "      <td>0.000000</td>\n",
       "      <td>0.927</td>\n",
       "      <td>0.504037</td>\n",
       "      <td>0.034123</td>\n",
       "    </tr>\n",
       "    <tr>\n",
       "      <th>4</th>\n",
       "      <td>0.792510</td>\n",
       "      <td>0.592</td>\n",
       "      <td>1.000000</td>\n",
       "      <td>0.809146</td>\n",
       "      <td>0.0</td>\n",
       "      <td>0.034159</td>\n",
       "      <td>0.436747</td>\n",
       "      <td>0.000004</td>\n",
       "      <td>0.726</td>\n",
       "      <td>0.491694</td>\n",
       "      <td>0.031332</td>\n",
       "    </tr>\n",
       "  </tbody>\n",
       "</table>\n",
       "</div>"
      ],
      "text/plain": [
       "   danceability  energy       key  loudness  mode  speechiness  acousticness  \\\n",
       "0      0.821862   0.479  0.181818  0.850709   0.0     0.343653      0.213855   \n",
       "1      0.659919   0.800  0.818182  0.876689   0.0     0.063364      0.143574   \n",
       "2      0.757085   0.761  0.181818  0.835941   1.0     0.105263      0.122490   \n",
       "3      0.757085   0.856  1.000000  0.884551   0.0     0.035913      0.082731   \n",
       "4      0.792510   0.592  1.000000  0.809146   0.0     0.034159      0.436747   \n",
       "\n",
       "   instrumentalness  valence     tempo  duration_ms  \n",
       "0          0.000001    0.559  0.696142     0.042465  \n",
       "1          0.629000    0.234  0.589854     0.041975  \n",
       "2          0.000007    0.362  0.475401     0.032386  \n",
       "3          0.000000    0.927  0.504037     0.034123  \n",
       "4          0.000004    0.726  0.491694     0.031332  "
      ]
     },
     "execution_count": 15,
     "metadata": {},
     "output_type": "execute_result"
    }
   ],
   "source": [
    "# Scale the numeric data to a range between 0 and 1 with MinMaxScaler (Kmeans is based in distances)\n",
    "\n",
    "X = audio_features_songs.select_dtypes(np.number)\n",
    "scaler = MinMaxScaler()\n",
    "X_scaled = scaler.fit_transform(X)\n",
    "X_scaled = pd.DataFrame(X_scaled, columns=X.columns)\n",
    "X_scaled.head()"
   ]
  },
  {
   "cell_type": "code",
   "execution_count": 20,
   "id": "5f7f8e1e",
   "metadata": {},
   "outputs": [],
   "source": [
    "X_scaled.to_csv(\"X_scaled.csv\", index=False)"
   ]
  },
  {
   "cell_type": "markdown",
   "id": "6755a936",
   "metadata": {},
   "source": [
    "### Clustering with Kmeans"
   ]
  },
  {
   "cell_type": "markdown",
   "id": "cc11d27f",
   "metadata": {},
   "source": [
    "**Find the optimum k (number of clusters) by looking at different metrics (inertia and silhouette score).** <br>\n",
    "By intuition, there should be at least more than 5 clusters, to be able to recognize songs from different music styles."
   ]
  },
  {
   "cell_type": "code",
   "execution_count": 17,
   "id": "e61aa267",
   "metadata": {},
   "outputs": [
    {
     "data": {
      "text/plain": [
       "[389974922617248.94,\n",
       " 287507686517290.3,\n",
       " 219405598750377.66,\n",
       " 172938730791358.2,\n",
       " 138099875313208.03,\n",
       " 112505785405664.88,\n",
       " 92753113589700.25,\n",
       " 79148566588930.33,\n",
       " 68079000394081.42,\n",
       " 58869102584097.65]"
      ]
     },
     "execution_count": 17,
     "metadata": {},
     "output_type": "execute_result"
    }
   ],
   "source": [
    "K = range(5, 15)\n",
    "\n",
    "inertia = []\n",
    "\n",
    "for k in K:\n",
    "    kmeans = KMeans(n_clusters=k, max_iter=100, random_state=1234)\n",
    "    kmeans.fit(X)\n",
    "    inertia.append(kmeans.inertia_)\n",
    "\n",
    "inertia"
   ]
  },
  {
   "cell_type": "code",
   "execution_count": 18,
   "id": "4ded9fcc",
   "metadata": {},
   "outputs": [
    {
     "data": {
      "image/png": "[encoded data removed]",
      "text/plain": [
       "<Figure size 1600x800 with 1 Axes>"
      ]
     },
     "metadata": {},
     "output_type": "display_data"
    }
   ],
   "source": [
    "# Plot to see where is the \"elbow\"\n",
    "\n",
    "plt.figure(figsize=(16,8))\n",
    "plt.plot(K, inertia, 'bx-')\n",
    "plt.xlabel('k')\n",
    "plt.ylabel('inertia')\n",
    "plt.xticks(np.arange(min(K), max(K)+1, 1.0))\n",
    "plt.show()"
   ]
  },
  {
   "cell_type": "markdown",
   "id": "df051f47",
   "metadata": {},
   "source": [
    "It's difficult to see the elbow here, perhaps 6-7."
   ]
  },
  {
   "cell_type": "code",
   "execution_count": 19,
   "id": "5d7799f9",
   "metadata": {},
   "outputs": [
    {
     "data": {
      "image/png": "[encoded data removed]",
      "text/plain": [
       "<Figure size 800x550 with 2 Axes>"
      ]
     },
     "metadata": {},
     "output_type": "display_data"
    },
    {
     "data": {
      "text/plain": [
       "<AxesSubplot:title={'center':'Distortion Score Elbow for KMeans Clustering'}, xlabel='k', ylabel='distortion score'>"
      ]
     },
     "execution_count": 19,
     "metadata": {},
     "output_type": "execute_result"
    }
   ],
   "source": [
    "model = KMeans(max_iter=100, random_state=1234)\n",
    "visualizer = KElbowVisualizer(model, k=(2,20))\n",
    "\n",
    "visualizer.fit(X)    \n",
    "visualizer.poof()    "
   ]
  },
  {
   "cell_type": "markdown",
   "id": "8dbe3c45",
   "metadata": {},
   "source": [
    "By using Yellowbrick, we see that the elbow would be at k=6."
   ]
  },
  {
   "cell_type": "code",
   "execution_count": null,
   "id": "ff66d9e5",
   "metadata": {},
   "outputs": [],
   "source": [
    "K = range(5, 15)\n",
    "\n",
    "silhouette = []\n",
    "\n",
    "for k in K:\n",
    "    kmeans = KMeans(n_clusters=k, max_iter=100, random_state=1234)\n",
    "    kmeans.fit(X_scaled)\n",
    "    silhouette.append(silhouette_score(X_scaled, kmeans.predict(X_scaled)))\n",
    "\n",
    "\n",
    "plt.figure(figsize=(16,8))\n",
    "plt.plot(K, silhouette, 'bx-')\n",
    "plt.xlabel('k')\n",
    "plt.ylabel('silhouette score')\n",
    "plt.xticks(np.arange(min(K), max(K)+1, 1.0))\n",
    "plt.show()"
   ]
  },
  {
   "cell_type": "markdown",
   "id": "e756a544",
   "metadata": {},
   "source": [
    "Here 5 is the best option, followed by 4, 7... also there is a peak at 12."
   ]
  },
  {
   "cell_type": "code",
   "execution_count": null,
   "id": "a440f04a",
   "metadata": {},
   "outputs": [],
   "source": [
    "for i in range(5, 15):\n",
    "    model = KMeans(i, max_iter=100, random_state=1234)\n",
    "    visualizer = SilhouetteVisualizer(model, colors='yellowbrick')\n",
    "\n",
    "    visualizer.fit(X_scaled)        \n",
    "    visualizer.show() "
   ]
  },
  {
   "cell_type": "code",
   "execution_count": 28,
   "id": "70e4c0c1",
   "metadata": {},
   "outputs": [
    {
     "ename": "IndexError",
     "evalue": "index 2 is out of bounds for axis 0 with size 2",
     "output_type": "error",
     "traceback": [
      "\u001b[1;31m---------------------------------------------------------------------------\u001b[0m",
      "\u001b[1;31mIndexError\u001b[0m                                Traceback (most recent call last)",
      "\u001b[1;32m~\\AppData\\Local\\Temp\\ipykernel_16472\\3514104632.py\u001b[0m in \u001b[0;36m<module>\u001b[1;34m\u001b[0m\n\u001b[0;32m     10\u001b[0m     \u001b[0mFit\u001b[0m \u001b[0mthe\u001b[0m \u001b[0mvisualizer\u001b[0m\u001b[1;33m\u001b[0m\u001b[1;33m\u001b[0m\u001b[0m\n\u001b[0;32m     11\u001b[0m     '''\n\u001b[1;32m---> 12\u001b[1;33m     \u001b[0mvisualizer\u001b[0m \u001b[1;33m=\u001b[0m \u001b[0mSilhouetteVisualizer\u001b[0m\u001b[1;33m(\u001b[0m\u001b[0mkm\u001b[0m\u001b[1;33m,\u001b[0m \u001b[0mcolors\u001b[0m\u001b[1;33m=\u001b[0m\u001b[1;34m'yellowbrick'\u001b[0m\u001b[1;33m,\u001b[0m \u001b[0max\u001b[0m\u001b[1;33m=\u001b[0m\u001b[0max\u001b[0m\u001b[1;33m[\u001b[0m\u001b[0mq\u001b[0m\u001b[1;33m-\u001b[0m\u001b[1;36m1\u001b[0m\u001b[1;33m]\u001b[0m\u001b[1;33m[\u001b[0m\u001b[0mmod\u001b[0m\u001b[1;33m]\u001b[0m\u001b[1;33m)\u001b[0m\u001b[1;33m\u001b[0m\u001b[1;33m\u001b[0m\u001b[0m\n\u001b[0m\u001b[0;32m     13\u001b[0m     \u001b[0mvisualizer\u001b[0m\u001b[1;33m.\u001b[0m\u001b[0mfit\u001b[0m\u001b[1;33m(\u001b[0m\u001b[0mX\u001b[0m\u001b[1;33m)\u001b[0m\u001b[1;33m\u001b[0m\u001b[1;33m\u001b[0m\u001b[0m\n",
      "\u001b[1;31mIndexError\u001b[0m: index 2 is out of bounds for axis 0 with size 2"
     ]
    },
    {
     "data": {
      "image/png": "[encoded data removed]",
      "text/plain": [
       "<Figure size 1500x800 with 4 Axes>"
      ]
     },
     "metadata": {},
     "output_type": "display_data"
    }
   ],
   "source": [
    "fig, ax = plt.subplots(2, 2, figsize=(15,8))\n",
    "for i in range(2, 10):\n",
    "    '''\n",
    "    Create KMeans instance for different number of clusters\n",
    "    '''\n",
    "    km = KMeans(n_clusters=i, init='k-means++', n_init=10, max_iter=100, random_state=42)\n",
    "    q, mod = divmod(i, 2)\n",
    "    '''\n",
    "    Create SilhouetteVisualizer instance with KMeans instance\n",
    "    Fit the visualizer\n",
    "    '''\n",
    "    visualizer = SilhouetteVisualizer(km, colors='yellowbrick', ax=ax[q-1][mod])\n",
    "    visualizer.fit(X)"
   ]
  },
  {
   "cell_type": "code",
   "execution_count": 31,
   "id": "2979f204",
   "metadata": {},
   "outputs": [
    {
     "ename": "IndexError",
     "evalue": "index 2 is out of bounds for axis 0 with size 2",
     "output_type": "error",
     "traceback": [
      "\u001b[1;31m---------------------------------------------------------------------------\u001b[0m",
      "\u001b[1;31mIndexError\u001b[0m                                Traceback (most recent call last)",
      "\u001b[1;32m~\\AppData\\Local\\Temp\\ipykernel_16472\\2443677107.py\u001b[0m in \u001b[0;36m<module>\u001b[1;34m\u001b[0m\n\u001b[0;32m     10\u001b[0m     \u001b[0mFit\u001b[0m \u001b[0mthe\u001b[0m \u001b[0mvisualizer\u001b[0m\u001b[1;33m\u001b[0m\u001b[1;33m\u001b[0m\u001b[0m\n\u001b[0;32m     11\u001b[0m     '''\n\u001b[1;32m---> 12\u001b[1;33m     \u001b[0mvisualizer\u001b[0m \u001b[1;33m=\u001b[0m \u001b[0mSilhouetteVisualizer\u001b[0m\u001b[1;33m(\u001b[0m\u001b[0mkm\u001b[0m\u001b[1;33m,\u001b[0m \u001b[0mcolors\u001b[0m\u001b[1;33m=\u001b[0m\u001b[1;34m'yellowbrick'\u001b[0m\u001b[1;33m,\u001b[0m \u001b[0max\u001b[0m\u001b[1;33m=\u001b[0m\u001b[0max\u001b[0m\u001b[1;33m[\u001b[0m\u001b[0mq\u001b[0m\u001b[1;33m-\u001b[0m\u001b[1;36m5\u001b[0m\u001b[1;33m]\u001b[0m\u001b[1;33m[\u001b[0m\u001b[0mmod\u001b[0m\u001b[1;33m]\u001b[0m\u001b[1;33m)\u001b[0m\u001b[1;33m\u001b[0m\u001b[1;33m\u001b[0m\u001b[0m\n\u001b[0m\u001b[0;32m     13\u001b[0m     \u001b[0mvisualizer\u001b[0m\u001b[1;33m.\u001b[0m\u001b[0mfit\u001b[0m\u001b[1;33m(\u001b[0m\u001b[0mX\u001b[0m\u001b[1;33m)\u001b[0m\u001b[1;33m\u001b[0m\u001b[1;33m\u001b[0m\u001b[0m\n",
      "\u001b[1;31mIndexError\u001b[0m: index 2 is out of bounds for axis 0 with size 2"
     ]
    },
    {
     "data": {
      "image/png": "[encoded data removed]",
      "text/plain": [
       "<Figure size 1500x800 with 4 Axes>"
      ]
     },
     "metadata": {},
     "output_type": "display_data"
    }
   ],
   "source": [
    "fig, ax = plt.subplots(2, 2, figsize=(15,8))\n",
    "for i in range(10, 20):\n",
    "    '''\n",
    "    Create KMeans instance for different number of clusters\n",
    "    '''\n",
    "    km = KMeans(n_clusters=i, init='k-means++', n_init=10, max_iter=100, random_state=42)\n",
    "    q, mod = divmod(i, 2)\n",
    "    '''\n",
    "    Create SilhouetteVisualizer instance with KMeans instance\n",
    "    Fit the visualizer\n",
    "    '''\n",
    "    visualizer = SilhouetteVisualizer(km, colors='yellowbrick', ax=ax[q-5][mod])\n",
    "    visualizer.fit(X)"
   ]
  },
  {
   "cell_type": "markdown",
   "id": "28d9b9a1",
   "metadata": {},
   "source": [
    "Again, 5 looks like the best option here (although I only can see 4 clusters). 3 is not a good choice since the SC is very different between clusters, and one of the cluster's SC is below the average."
   ]
  },
  {
   "cell_type": "markdown",
   "id": "ca8534d9",
   "metadata": {},
   "source": [
    "**Visualize the results** <br>\n",
    "In order to plot the results we need to transform the 11 features into just 2. For that purpose we will apply PCA."
   ]
  },
  {
   "cell_type": "code",
   "execution_count": null,
   "id": "94300f8c",
   "metadata": {},
   "outputs": [],
   "source": [
    "pca = PCA(2) \n",
    "X_2D = pca.fit_transform(X_scaled)\n",
    "X_2D"
   ]
  },
  {
   "cell_type": "code",
   "execution_count": null,
   "id": "bfdc408c",
   "metadata": {},
   "outputs": [],
   "source": [
    "kmeans = KMeans(n_clusters=5)\n",
    "kmeans.fit(X_2D)\n",
    "clusters = kmeans.predict(X_2D)\n",
    "clusters"
   ]
  },
  {
   "cell_type": "code",
   "execution_count": null,
   "id": "1596603c",
   "metadata": {},
   "outputs": [],
   "source": [
    "labels = np.unique(clusters)\n",
    "\n",
    "for i in labels:\n",
    "    plt.scatter(X_2D[clusters == i , 0] , X_2D[clusters == i , 1] , label = i)\n",
    "plt.legend()\n",
    "plt.show()"
   ]
  },
  {
   "cell_type": "code",
   "execution_count": null,
   "id": "287e3e81",
   "metadata": {},
   "outputs": [],
   "source": []
  },
  {
   "cell_type": "code",
   "execution_count": null,
   "id": "0d4c04f3",
   "metadata": {},
   "outputs": [],
   "source": [
    "kaggle_songs_scaled = MinMaxScaler().fit_transform(kaggle_songs.select_dtypes(np.number))\n",
    "\n",
    "pca = PCA(2) \n",
    "X_2D = pca.fit_transform(kaggle_songs_scaled)\n",
    "kmeans = KMeans(n_clusters=5)\n",
    "kmeans.fit(X_2D)\n",
    "clusters = kmeans.predict(X_2D)\n",
    "\n",
    "labels = np.unique(clusters)\n",
    "\n",
    "for i in labels:\n",
    "    plt.scatter(X_2D[clusters == i , 0] , X_2D[clusters == i , 1] , label = i)\n",
    "plt.legend()\n",
    "plt.show()"
   ]
  },
  {
   "cell_type": "markdown",
   "id": "bd3a7b59",
   "metadata": {},
   "source": [
    "**Assign clusters to original dataframe**"
   ]
  },
  {
   "cell_type": "code",
   "execution_count": null,
   "id": "8e007c2c",
   "metadata": {},
   "outputs": [],
   "source": [
    "kmeans = KMeans(n_clusters=5)\n",
    "kmeans.fit(X_scaled)\n",
    "clusters = kmeans.predict(X_scaled)\n",
    "clusters"
   ]
  },
  {
   "cell_type": "code",
   "execution_count": null,
   "id": "febe2a32",
   "metadata": {},
   "outputs": [],
   "source": [
    "songs_clusters = audio_features_songs.copy()\n",
    "songs_clusters[\"cluster\"] = clusters\n",
    "songs_clusters.head()"
   ]
  },
  {
   "cell_type": "code",
   "execution_count": null,
   "id": "1b5c175b",
   "metadata": {},
   "outputs": [],
   "source": [
    "songs_clusters[\"cluster\"].value_counts()"
   ]
  },
  {
   "cell_type": "code",
   "execution_count": null,
   "id": "20f0414b",
   "metadata": {},
   "outputs": [],
   "source": [
    "songs_clusters.to_csv(\"songs_clusters.csv\", index=False)"
   ]
  },
  {
   "cell_type": "markdown",
   "id": "ed306f57",
   "metadata": {},
   "source": [
    "### Build the recommender\n",
    "Logic:\n",
    "- Ask the user for a song (title + artist)\n",
    "- Check if the song is in \"billboard\"\n",
    "- If yes: return another random song from \"billboard\"\n",
    "- If no: \n",
    "    - Use spotipy to obtain audio features from the song\n",
    "    - Apply Kmeans to asign a cluster to the song\n",
    "    - Return a song from \"songs_clusters\" that belongs to the same cluster"
   ]
  },
  {
   "cell_type": "code",
   "execution_count": null,
   "id": "ed95771e",
   "metadata": {},
   "outputs": [],
   "source": [
    "client_id = getpass(\"Insert client ID: \")\n",
    "client_secret = getpass(\"Insert client secret: \")"
   ]
  },
  {
   "cell_type": "code",
   "execution_count": null,
   "id": "614115bb",
   "metadata": {},
   "outputs": [],
   "source": [
    "client_id = \"4617eb96ef9545239b68c0d443d5baba\"\n",
    "client_secret = \"93d966e07836444e9f4a9ddd881f0060\""
   ]
  },
  {
   "cell_type": "code",
   "execution_count": null,
   "id": "7d54a428",
   "metadata": {},
   "outputs": [],
   "source": [
    "sp = spotipy.Spotify(auth_manager=SpotifyClientCredentials(client_id, client_secret))"
   ]
  },
  {
   "cell_type": "code",
   "execution_count": null,
   "id": "19611890",
   "metadata": {},
   "outputs": [],
   "source": [
    "user_title = input(\"Please enter the title of the song: \")\n",
    "user_artist = input(\"Please enter the artist: \")"
   ]
  },
  {
   "cell_type": "code",
   "execution_count": null,
   "id": "3c245ce9",
   "metadata": {},
   "outputs": [],
   "source": [
    "def recommend_song(title, artist):\n",
    "    \n",
    "    # If the user input is a song in the Billboard list, recommend another song from the list\n",
    "    if title in billboard[\"title\"].unique():\n",
    "        if artist in list(billboard.loc[billboard[\"title\"] == title, \"artist\"]):\n",
    "            while True:\n",
    "                recommendation = billboard.sample(1, ignore_index=True)\n",
    "                if recommendation[\"title\"][0] != title or recommendation[\"artist\"][0] != artist:\n",
    "                    return ' - '.join([recommendation[\"title\"][0], recommendation[\"artist\"][0]])\n",
    "                    break\n",
    "\n",
    "    # If it's not in the Billboard list, try to find the song in Spotipy, if not return an error message\n",
    "    elif sp.search(q=f\"track:{title}\", limit=1)[\"tracks\"][\"total\"] == 0:\n",
    "        print(\"Could not find the song\")\n",
    "\n",
    "    # When the song is in Spotipy, search for a similar song by clustering\n",
    "    else:\n",
    "\n",
    "        # Obtain audio features of the user song\n",
    "        results = sp.search(q=f\"track:{title}\", limit=1)\n",
    "        track_id = results[\"tracks\"][\"items\"][0][\"id\"]\n",
    "        audio_features = sp.audio_features(track_id)\n",
    "\n",
    "        # Create dataframe\n",
    "        df = pd.DataFrame(audio_features)\n",
    "        new_features = df[X.columns]\n",
    "\n",
    "        # Scale features\n",
    "        X_scaled = MinMaxScaler().fit_transform(new_features)\n",
    "        X_scaled = pd.DataFrame(X_scaled, columns=X.columns)\n",
    "\n",
    "        # Predict cluster\n",
    "        cluster = kmeans.predict(X_scaled)\n",
    "\n",
    "        # Filter the dataframe to select only the predicted cluster\n",
    "        filtered_df = songs_clusters[songs_clusters[\"cluster\"] == cluster[0]]\n",
    "\n",
    "        # Get one random song from the filtered dataframe\n",
    "        recommendation = filtered_df.sample(1, ignore_index=True)\n",
    "        return ' - '.join([recommendation[\"title\"][0], recommendation[\"artist\"][0]])"
   ]
  },
  {
   "cell_type": "code",
   "execution_count": null,
   "id": "b89694f5",
   "metadata": {},
   "outputs": [],
   "source": [
    "# The initial idea was to get the closest song, but there's an error and it returns only one song for each cluster\n",
    "\n",
    "#         # Filter the dataframe to select only the predicted cluster\n",
    "#         filtered_df = songs_clusters[songs_clusters[\"cluster\"] == cluster[0]][X.columns]\n",
    "\n",
    "#         # Get the index of the closest song from the filtered dataframe\n",
    "#         closest, _ = pairwise_distances_argmin_min(X_scaled, filtered_df)\n",
    "\n",
    "#         # Return the closest song\n",
    "#         return ' - '.join(\n",
    "#             [songs_clusters.loc[closest][\"title\"].values[0], songs_clusters.loc[closest][\"artist\"].values[0]])"
   ]
  },
  {
   "cell_type": "code",
   "execution_count": null,
   "id": "e302bbb2",
   "metadata": {},
   "outputs": [],
   "source": [
    "recommend_song(\"La bomba\", \"King Africa\")"
   ]
  },
  {
   "cell_type": "markdown",
   "id": "26feba4c",
   "metadata": {},
   "source": [
    "### Conclusion\n",
    "We have built a song recommender that receives the user input and, if it's a song that is popular in the moment, returns also a popular song. If it's not, it returns a similar song from a dataset of 166,906 unique songs and their audio features. For that purpose, this dataset has been divided in ¿? clusters using Kmeans. The recommender searches the audio features of the user's song, it asigns the song to a cluster, and then selects a random song from the same cluster in the dataset. It also returns an error message if the song is not recognized. <br>\n",
    "This is a MVP. Next steps for improvement:\n",
    "- Kmeans: better adjustment the number of clusters, hyperparameter tuning.\n",
    "- Check the performance of other clustering models like DBSCAN or Gaussian Mixtures.\n",
    "- Instead of returning a random song from the same cluster, return the closest song (which was the initial idea, but there was not enough time to make it work)"
   ]
  },
  {
   "cell_type": "code",
   "execution_count": null,
   "id": "2c57f3c0",
   "metadata": {},
   "outputs": [],
   "source": []
  }
 ],
 "metadata": {
  "kernelspec": {
   "display_name": "Python 3 (ipykernel)",
   "language": "python",
   "name": "python3"
  },
  "language_info": {
   "codemirror_mode": {
    "name": "ipython",
    "version": 3
   },
   "file_extension": ".py",
   "mimetype": "text/x-python",
   "name": "python",
   "nbconvert_exporter": "python",
   "pygments_lexer": "ipython3",
   "version": "3.9.13"
  }
 },
 "nbformat": 4,
 "nbformat_minor": 5
}
